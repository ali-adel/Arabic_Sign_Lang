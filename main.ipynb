{
 "cells": [
  {
   "cell_type": "code",
   "execution_count": 2,
   "metadata": {},
   "outputs": [],
   "source": [
    "import cv2\n",
    "import mediapipe as mp\n",
    "import pandas as pd\n",
    "import os\n",
    "import time\n",
    "import numpy as np"
   ]
  },
  {
   "cell_type": "markdown",
   "metadata": {},
   "source": [
    "# Renaming images "
   ]
  },
  {
   "cell_type": "code",
   "execution_count": 3,
   "metadata": {},
   "outputs": [
    {
     "name": "stdout",
     "output_type": "stream",
     "text": [
      "Renaming completed!\n"
     ]
    }
   ],
   "source": [
    "# Specify the main directory containing the folders\n",
    "main_directory = r\"C:\\Users\\Legion\\Desktop\\sign lan\\ara_sign\"\n",
    "\n",
    "# Loop through each folder in the main directory\n",
    "for folder_name in os.listdir(main_directory):\n",
    "    folder_path = os.path.join(main_directory, folder_name)\n",
    "\n",
    "    # Check if it's a directory\n",
    "    if os.path.isdir(folder_path):\n",
    "        # Loop through each file in the folder\n",
    "        for index, filename in enumerate(os.listdir(folder_path), start=1):\n",
    "            file_path = os.path.join(folder_path, filename)\n",
    "            file_extension = os.path.splitext(filename)[1]\n",
    "\n",
    "            # Check if it's an image file\n",
    "            if file_extension.lower() in ['.jpg', '.jpeg', '.png']:\n",
    "                new_name = f\"{folder_name}_{index}{file_extension}\"\n",
    "                new_path = os.path.join(folder_path, new_name)\n",
    "\n",
    "                # Rename the file\n",
    "                os.rename(file_path, new_path)\n",
    "\n",
    "print(\"Renaming completed!\")\n",
    "\n"
   ]
  },
  {
   "cell_type": "code",
   "execution_count": null,
   "metadata": {},
   "outputs": [],
   "source": []
  }
 ],
 "metadata": {
  "kernelspec": {
   "display_name": "Python 3",
   "language": "python",
   "name": "python3"
  },
  "language_info": {
   "codemirror_mode": {
    "name": "ipython",
    "version": 3
   },
   "file_extension": ".py",
   "mimetype": "text/x-python",
   "name": "python",
   "nbconvert_exporter": "python",
   "pygments_lexer": "ipython3",
   "version": "3.12.5"
  }
 },
 "nbformat": 4,
 "nbformat_minor": 2
}
